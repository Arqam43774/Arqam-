{
 "cells": [
  {
   "cell_type": "code",
   "execution_count": 8,
   "id": "69d9cab5-249c-45d5-8a68-88fa8e9cda1d",
   "metadata": {},
   "outputs": [
    {
     "name": "stdout",
     "output_type": "stream",
     "text": [
      "Python 3.12.7\n"
     ]
    }
   ],
   "source": [
    "!python --version\n"
   ]
  },
  {
   "cell_type": "code",
   "execution_count": 20,
   "id": "254cc250-754b-43d2-bba1-0bb34626dd2a",
   "metadata": {},
   "outputs": [
    {
     "name": "stdout",
     "output_type": "stream",
     "text": [
      "Dataset Overview:\n",
      "   StudentID  G1  G2  G3      Mjob     Fjob  age address  studytime  failures  \\\n",
      "0          1   6   2   2   teacher  at_home   21   rural          3         1   \n",
      "1          2  19  11  18    health  teacher   18   rural          1         1   \n",
      "2          3  14   7  19    health    other   20   urban          1         1   \n",
      "3          4  10   2   6  services   health   21   urban          3         1   \n",
      "4          5   7   0  19    health   health   18   rural          4         1   \n",
      "\n",
      "  schoolsup famsup paid activities nursery higher internet romantic  \n",
      "0        no    yes  yes        yes     yes    yes       no      yes  \n",
      "1        no     no   no         no     yes     no       no       no  \n",
      "2       yes    yes  yes         no      no     no      yes      yes  \n",
      "3       yes     no  yes         no     yes     no       no       no  \n",
      "4        no     no  yes         no     yes    yes      yes       no  \n"
     ]
    }
   ],
   "source": [
    "import pandas as pd\n",
    "import matplotlib.pyplot as plt\n",
    "# Load the dataset\n",
    "# Replace 'path_to_file.csv' with the actual file path or name of the dataset\n",
    "df = pd.read_csv(\"student_performance.csv\")\n",
    "\n",
    "# Display the first few rows of the dataset\n",
    "print(\"Dataset Overview:\")\n",
    "print(df.head())\n"
   ]
  },
  {
   "cell_type": "code",
   "execution_count": 5,
   "id": "23799bc9-240e-4920-95f1-a759583efaf7",
   "metadata": {},
   "outputs": [
    {
     "name": "stdout",
     "output_type": "stream",
     "text": [
      "\n",
      "Dataset Info:\n",
      "<class 'pandas.core.frame.DataFrame'>\n",
      "RangeIndex: 100 entries, 0 to 99\n",
      "Data columns (total 18 columns):\n",
      " #   Column      Non-Null Count  Dtype \n",
      "---  ------      --------------  ----- \n",
      " 0   StudentID   100 non-null    int64 \n",
      " 1   G1          100 non-null    int64 \n",
      " 2   G2          100 non-null    int64 \n",
      " 3   G3          100 non-null    int64 \n",
      " 4   Mjob        100 non-null    object\n",
      " 5   Fjob        100 non-null    object\n",
      " 6   age         100 non-null    int64 \n",
      " 7   address     100 non-null    object\n",
      " 8   studytime   100 non-null    int64 \n",
      " 9   failures    100 non-null    int64 \n",
      " 10  schoolsup   100 non-null    object\n",
      " 11  famsup      100 non-null    object\n",
      " 12  paid        100 non-null    object\n",
      " 13  activities  100 non-null    object\n",
      " 14  nursery     100 non-null    object\n",
      " 15  higher      100 non-null    object\n",
      " 16  internet    100 non-null    object\n",
      " 17  romantic    100 non-null    object\n",
      "dtypes: int64(7), object(11)\n",
      "memory usage: 14.2+ KB\n",
      "None\n",
      "\n",
      "Dataset Statistics:\n",
      "        StudentID          G1          G2          G3         age  studytime  \\\n",
      "count  100.000000  100.000000  100.000000  100.000000  100.000000  100.00000   \n",
      "mean    50.500000    9.010000    8.710000    9.070000   18.180000    2.21000   \n",
      "std     29.011492    5.535003    6.107282    6.629068    1.940426    1.06643   \n",
      "min      1.000000    0.000000    0.000000    0.000000   15.000000    1.00000   \n",
      "25%     25.750000    4.750000    3.750000    2.000000   16.750000    1.00000   \n",
      "50%     50.500000    8.500000    8.000000    8.000000   18.000000    2.00000   \n",
      "75%     75.250000   14.000000   14.000000   15.000000   20.000000    3.00000   \n",
      "max    100.000000   19.000000   19.000000   19.000000   21.000000    4.00000   \n",
      "\n",
      "         failures  \n",
      "count  100.000000  \n",
      "mean     1.380000  \n",
      "std      1.080404  \n",
      "min      0.000000  \n",
      "25%      0.000000  \n",
      "50%      1.000000  \n",
      "75%      2.000000  \n",
      "max      3.000000  \n"
     ]
    }
   ],
   "source": [
    "print(\"\\nDataset Info:\")\n",
    "print(df.info())\n",
    "print(\"\\nDataset Statistics:\")\n",
    "print(df.describe())"
   ]
  },
  {
   "cell_type": "code",
   "execution_count": 6,
   "id": "85148480-35a5-43a4-92e0-8a9dcc6c5ab5",
   "metadata": {},
   "outputs": [
    {
     "name": "stdout",
     "output_type": "stream",
     "text": [
      "\n",
      "Missing Values:\n",
      "StudentID     0\n",
      "G1            0\n",
      "G2            0\n",
      "G3            0\n",
      "Mjob          0\n",
      "Fjob          0\n",
      "age           0\n",
      "address       0\n",
      "studytime     0\n",
      "failures      0\n",
      "schoolsup     0\n",
      "famsup        0\n",
      "paid          0\n",
      "activities    0\n",
      "nursery       0\n",
      "higher        0\n",
      "internet      0\n",
      "romantic      0\n",
      "dtype: int64\n"
     ]
    }
   ],
   "source": [
    "print(\"\\nMissing Values:\")\n",
    "print(df.isnull().sum())"
   ]
  },
  {
   "cell_type": "code",
   "execution_count": 52,
   "id": "3916618f-2ab4-4e15-8761-578eba3973b0",
   "metadata": {},
   "outputs": [],
   "source": [
    "import pandas as pd\n",
    "import matplotlib.pyplot as plt"
   ]
  },
  {
   "cell_type": "code",
   "execution_count": 56,
   "id": "d1063a0a-4318-4586-a2b7-9140ab197fb7",
   "metadata": {},
   "outputs": [],
   "source": [
    "dataset_url = \"ipl_matches_smalldata.csv\"\n",
    "df = pd.read_csv(dataset_url)"
   ]
  },
  {
   "cell_type": "code",
   "execution_count": 57,
   "id": "5e543f2e-fd9d-4585-a03c-99c810160669",
   "metadata": {},
   "outputs": [
    {
     "name": "stdout",
     "output_type": "stream",
     "text": [
      "Dataset Overview\n",
      "      match_id  inning                 batting_team      bowling_team  over  \\\n",
      "3994    335998       2  Royal Challengers Bangalore  Delhi Daredevils    15   \n",
      "3995    335998       2  Royal Challengers Bangalore  Delhi Daredevils    15   \n",
      "3996    335998       2  Royal Challengers Bangalore  Delhi Daredevils    15   \n",
      "3997    335998       2  Royal Challengers Bangalore  Delhi Daredevils    15   \n",
      "3998    335998       2  Royal Challengers Bangalore  Delhi Daredevils    16   \n",
      "\n",
      "      ball      batter      bowler non_striker  batsman_runs  extra_runs  \\\n",
      "3994     3    R Dravid  GD McGrath   JH Kallis             0           0   \n",
      "3995     4   JH Kallis  GD McGrath  MV Boucher             1           0   \n",
      "3996     5  MV Boucher  GD McGrath   JH Kallis             0           0   \n",
      "3997     6  MV Boucher  GD McGrath   JH Kallis             4           0   \n",
      "3998     1   JH Kallis   VY Mahesh  MV Boucher             0           0   \n",
      "\n",
      "      total_runs extras_type  is_wicket player_dismissed dismissal_kind  \\\n",
      "3994           0         NaN          1         R Dravid         caught   \n",
      "3995           1         NaN          0              NaN            NaN   \n",
      "3996           0         NaN          0              NaN            NaN   \n",
      "3997           4         NaN          0              NaN            NaN   \n",
      "3998           0         NaN          0              NaN            NaN   \n",
      "\n",
      "       fielder  \n",
      "3994  V Sehwag  \n",
      "3995       NaN  \n",
      "3996       NaN  \n",
      "3997       NaN  \n",
      "3998       NaN  \n"
     ]
    }
   ],
   "source": [
    "print(\"Dataset Overview\")\n",
    "print(df.tail())"
   ]
  },
  {
   "cell_type": "code",
   "execution_count": 58,
   "id": "abf54a00-ab7b-4b54-9b79-5c3a0f95e515",
   "metadata": {},
   "outputs": [
    {
     "name": "stdout",
     "output_type": "stream",
     "text": [
      "\n",
      "Dataset Info:\n",
      "<class 'pandas.core.frame.DataFrame'>\n",
      "RangeIndex: 3999 entries, 0 to 3998\n",
      "Data columns (total 17 columns):\n",
      " #   Column            Non-Null Count  Dtype \n",
      "---  ------            --------------  ----- \n",
      " 0   match_id          3999 non-null   int64 \n",
      " 1   inning            3999 non-null   int64 \n",
      " 2   batting_team      3999 non-null   object\n",
      " 3   bowling_team      3999 non-null   object\n",
      " 4   over              3999 non-null   int64 \n",
      " 5   ball              3999 non-null   int64 \n",
      " 6   batter            3999 non-null   object\n",
      " 7   bowler            3999 non-null   object\n",
      " 8   non_striker       3999 non-null   object\n",
      " 9   batsman_runs      3999 non-null   int64 \n",
      " 10  extra_runs        3999 non-null   int64 \n",
      " 11  total_runs        3999 non-null   int64 \n",
      " 12  extras_type       263 non-null    object\n",
      " 13  is_wicket         3999 non-null   int64 \n",
      " 14  player_dismissed  199 non-null    object\n",
      " 15  dismissal_kind    199 non-null    object\n",
      " 16  fielder           141 non-null    object\n",
      "dtypes: int64(8), object(9)\n",
      "memory usage: 531.2+ KB\n",
      "None\n",
      "\n",
      "Dataset Statistics:\n",
      "            match_id       inning         over         ball  batsman_runs  \\\n",
      "count    3999.000000  3999.000000  3999.000000  3999.000000   3999.000000   \n",
      "mean   335989.992498     1.474369     8.998500     3.639660      1.282571   \n",
      "std         4.880866     0.499405     5.601177     1.825542      1.701359   \n",
      "min    335982.000000     1.000000     0.000000     1.000000      0.000000   \n",
      "25%    335986.000000     1.000000     4.000000     2.000000      0.000000   \n",
      "50%    335990.000000     1.000000     9.000000     4.000000      1.000000   \n",
      "75%    335994.000000     2.000000    14.000000     5.000000      1.000000   \n",
      "max    335998.000000     2.000000    19.000000     9.000000      6.000000   \n",
      "\n",
      "        extra_runs   total_runs    is_wicket  \n",
      "count  3999.000000  3999.000000  3999.000000  \n",
      "mean      0.086022     1.368592     0.049762  \n",
      "std       0.403960     1.689408     0.217481  \n",
      "min       0.000000     0.000000     0.000000  \n",
      "25%       0.000000     0.000000     0.000000  \n",
      "50%       0.000000     1.000000     0.000000  \n",
      "75%       0.000000     1.000000     0.000000  \n",
      "max       5.000000     7.000000     1.000000  \n"
     ]
    }
   ],
   "source": [
    "print(\"\\nDataset Info:\")\n",
    "print(df.info())\n",
    "print(\"\\nDataset Statistics:\")\n",
    "print(df.describe())"
   ]
  },
  {
   "cell_type": "code",
   "execution_count": 70,
   "id": "d26f27e0-17d1-4d23-a6e3-7a8e45d6a029",
   "metadata": {},
   "outputs": [
    {
     "name": "stdout",
     "output_type": "stream",
     "text": [
      "\n",
      "Missing Values:\n",
      "match_id            0\n",
      "inning              0\n",
      "batting_team        0\n",
      "bowling_team        0\n",
      "over                0\n",
      "ball                0\n",
      "batter              0\n",
      "bowler              0\n",
      "non_striker         0\n",
      "Runs_Scored         0\n",
      "extra_runs          0\n",
      "total_runs          0\n",
      "extras_type         0\n",
      "is_wicket           0\n",
      "player_dismissed    0\n",
      "dismissal_kind      0\n",
      "fielder             0\n",
      "dtype: int64\n"
     ]
    }
   ],
   "source": [
    "# Step 4: Check for Missing Values\n",
    "print(\"\\nMissing Values:\")\n",
    "print(df.isnull().sum())\n",
    "\n"
   ]
  },
  {
   "cell_type": "code",
   "execution_count": 71,
   "id": "d162ae21-9070-4014-bab2-eb2c34f9bcc9",
   "metadata": {},
   "outputs": [],
   "source": [
    "# Step 5: Clean the Data\n",
    "# Fill missing values with 0\n",
    "df.fillna(0, inplace=True)\n"
   ]
  },
  {
   "cell_type": "code",
   "execution_count": 72,
   "id": "34c33927-3fbb-492a-b774-73765b8ba8db",
   "metadata": {},
   "outputs": [],
   "source": [
    "# Rename columns for clarity\n",
    "df.rename(columns={\"batsman_runs\": \"Runs_Scored\"}, inplace=True)\n"
   ]
  },
  {
   "cell_type": "code",
   "execution_count": 73,
   "id": "261b3b94-0322-4b36-aa9f-810bb28fb017",
   "metadata": {},
   "outputs": [
    {
     "name": "stdout",
     "output_type": "stream",
     "text": [
      "   match_id  inning           batting_team                 bowling_team  over  \\\n",
      "0    335982       1  Kolkata Knight Riders  Royal Challengers Bangalore     0   \n",
      "1    335982       1  Kolkata Knight Riders  Royal Challengers Bangalore     0   \n",
      "2    335982       1  Kolkata Knight Riders  Royal Challengers Bangalore     0   \n",
      "3    335982       1  Kolkata Knight Riders  Royal Challengers Bangalore     0   \n",
      "4    335982       1  Kolkata Knight Riders  Royal Challengers Bangalore     0   \n",
      "\n",
      "   ball       batter   bowler  non_striker  Runs_Scored  extra_runs  \\\n",
      "0     1   SC Ganguly  P Kumar  BB McCullum            0           1   \n",
      "1     2  BB McCullum  P Kumar   SC Ganguly            0           0   \n",
      "2     3  BB McCullum  P Kumar   SC Ganguly            0           1   \n",
      "3     4  BB McCullum  P Kumar   SC Ganguly            0           0   \n",
      "4     5  BB McCullum  P Kumar   SC Ganguly            0           0   \n",
      "\n",
      "   total_runs extras_type  is_wicket player_dismissed dismissal_kind fielder  \n",
      "0           1     legbyes          0                0              0       0  \n",
      "1           0           0          0                0              0       0  \n",
      "2           1       wides          0                0              0       0  \n",
      "3           0           0          0                0              0       0  \n",
      "4           0           0          0                0              0       0  \n",
      "\n",
      "Top 10 Batsmen by Runs:\n",
      "batter\n",
      "ML Hayden        189\n",
      "BB McCullum      188\n",
      "G Gambhir        174\n",
      "KC Sangakkara    172\n",
      "MEK Hussey       168\n",
      "SR Watson        162\n",
      "A Symonds        161\n",
      "RV Uthappa       155\n",
      "AC Gilchrist     153\n",
      "LRPL Taylor      149\n",
      "Name: Runs_Scored, dtype: int64\n"
     ]
    }
   ],
   "source": [
    "# Step 6: Analyze Data\n",
    "# Example 1: Top Batsmen Analysis\n",
    "#Total runs scored by each batsman:\n",
    "print(df.head())\n",
    "top_batsmen = df.groupby('batter')['Runs_Scored'].sum().sort_values(ascending=False).head(10)\n",
    "print(\"\\nTop 10 Batsmen by Runs:\")\n",
    "print(top_batsmen)"
   ]
  },
  {
   "cell_type": "code",
   "execution_count": 74,
   "id": "7766b027-1f83-47bc-81ae-a014fe94f49c",
   "metadata": {},
   "outputs": [
    {
     "data": {
      "image/png": "[encoded data removed]",
      "text/plain": [
       "<Figure size 1000x500 with 1 Axes>"
      ]
     },
     "metadata": {},
     "output_type": "display_data"
    }
   ],
   "source": [
    "# Visualize the data\n",
    "top_batsmen.plot(kind='bar', title='Top 10 Batsmen by Runs', figsize=(10, 5))\n",
    "plt.xlabel('Batsman')\n",
    "plt.ylabel('Total Runs')\n",
    "plt.show()"
   ]
  },
  {
   "cell_type": "code",
   "execution_count": 79,
   "id": "02f2c71e-8d99-4157-bf29-632494a9d7d3",
   "metadata": {},
   "outputs": [
    {
     "name": "stdout",
     "output_type": "stream",
     "text": [
      "Empty DataFrame\n",
      "Columns: [batter, batsman_runs]\n",
      "Index: []\n"
     ]
    }
   ],
   "source": [
    "import pandas as pd\n",
    "\n",
    "# Load the dataset\n",
    "file_path = 'ipl_matches_smalldata.csv'\n",
    "ipl_data = pd.read_csv(file_path)\n",
    "\n",
    "# Grouping by 'batter' to sum up their total runs\n",
    "top_batsmen = ipl_data.groupby('batter')['batsman_runs'].sum().reset_index()\n",
    "\n",
    "# Filter players who have scored more than 500 runs\n",
    "players_above_500 = top_batsmen[top_batsmen['batsman_runs'] > 500]\n",
    "\n",
    "# Display the filtered players\n",
    "print(players_above_500)\n"
   ]
  }
 ],
 "metadata": {
  "kernelspec": {
   "display_name": "Python 3 (ipykernel)",
   "language": "python",
   "name": "python3"
  },
  "language_info": {
   "codemirror_mode": {
    "name": "ipython",
    "version": 3
   },
   "file_extension": ".py",
   "mimetype": "text/x-python",
   "name": "python",
   "nbconvert_exporter": "python",
   "pygments_lexer": "ipython3",
   "version": "3.12.7"
  }
 },
 "nbformat": 4,
 "nbformat_minor": 5
}
