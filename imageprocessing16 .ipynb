{
 "cells": [
  {
   "cell_type": "code",
   "execution_count": 15,
   "id": "8fad00f0-3c41-4f71-8c05-b564d4738cbd",
   "metadata": {},
   "outputs": [
    {
     "name": "stdout",
     "output_type": "stream",
     "text": [
      "Requirement already satisfied: numpy in c:\\users\\aayus\\anaconda3\\lib\\site-packages (1.26.4)\n",
      "Requirement already satisfied: matplotlib in c:\\users\\aayus\\anaconda3\\lib\\site-packages (3.9.2)\n",
      "Requirement already satisfied: contourpy>=1.0.1 in c:\\users\\aayus\\anaconda3\\lib\\site-packages (from matplotlib) (1.2.0)\n",
      "Requirement already satisfied: cycler>=0.10 in c:\\users\\aayus\\anaconda3\\lib\\site-packages (from matplotlib) (0.11.0)\n",
      "Requirement already satisfied: fonttools>=4.22.0 in c:\\users\\aayus\\anaconda3\\lib\\site-packages (from matplotlib) (4.51.0)\n",
      "Requirement already satisfied: kiwisolver>=1.3.1 in c:\\users\\aayus\\anaconda3\\lib\\site-packages (from matplotlib) (1.4.4)\n",
      "Requirement already satisfied: numpy>=1.23 in c:\\users\\aayus\\anaconda3\\lib\\site-packages (from matplotlib) (1.26.4)\n",
      "Requirement already satisfied: packaging>=20.0 in c:\\users\\aayus\\anaconda3\\lib\\site-packages (from matplotlib) (24.1)\n",
      "Requirement already satisfied: pillow>=8 in c:\\users\\aayus\\anaconda3\\lib\\site-packages (from matplotlib) (10.4.0)\n",
      "Requirement already satisfied: pyparsing>=2.3.1 in c:\\users\\aayus\\anaconda3\\lib\\site-packages (from matplotlib) (3.1.2)\n",
      "Requirement already satisfied: python-dateutil>=2.7 in c:\\users\\aayus\\anaconda3\\lib\\site-packages (from matplotlib) (2.9.0.post0)\n",
      "Requirement already satisfied: six>=1.5 in c:\\users\\aayus\\anaconda3\\lib\\site-packages (from python-dateutil>=2.7->matplotlib) (1.16.0)\n",
      "Requirement already satisfied: opencv-python in c:\\users\\aayus\\anaconda3\\lib\\site-packages (4.10.0.84)\n",
      "Requirement already satisfied: numpy>=1.21.2 in c:\\users\\aayus\\anaconda3\\lib\\site-packages (from opencv-python) (1.26.4)\n"
     ]
    }
   ],
   "source": [
    "!pip install numpy\n",
    "!pip install matplotlib\n",
    "!pip install opencv-python"
   ]
  },
  {
   "cell_type": "code",
   "execution_count": 14,
   "id": "168c8135-0cc8-4429-b328-bd00984e34be",
   "metadata": {},
   "outputs": [],
   "source": [
    "import cv2\n",
    "import numpy as np\n",
    "import matplotlib.pyplot as plt"
   ]
  },
  {
   "cell_type": "code",
   "execution_count": 21,
   "id": "b5672f6a-d528-4908-9de8-3162bfd838e3",
   "metadata": {},
   "outputs": [],
   "source": [
    "img = cv2.imread(r\"PythonInstallation.PNG.png\")"
   ]
  },
  {
   "cell_type": "code",
   "execution_count": 35,
   "id": "e7d9f6c3-f623-4136-810d-91adda5c5b02",
   "metadata": {},
   "outputs": [
    {
     "name": "stdout",
     "output_type": "stream",
     "text": [
      "<class 'numpy.ndarray'>\n"
     ]
    }
   ],
   "source": [
    "print(type(img))"
   ]
  },
  {
   "cell_type": "code",
   "execution_count": 5,
   "id": "9580810f-1f84-41df-b10f-70ba7d7f0bb2",
   "metadata": {
    "scrolled": true
   },
   "outputs": [],
   "source": [
    "import cv2\n",
    "\n",
    "# Read the image from a file\n",
    "image = cv2.imread('PythonInstallation.PNG.png')  # Replace 'image_file.jpg' with your image path\n",
    "\n",
    "# Check if the image was successfully loaded\n",
    "if image is None:\n",
    "    print(\"Error: Image not found or unable to open the file.\")\n",
    "else:\n",
    "    # Display the image\n",
    "    cv2.imshow('Image', image)\n",
    "\n",
    "    # Wait for a key press and close the window\n",
    "    cv2.waitKey(0)  # Wait indefinitely until a key is pressed\n",
    "    cv2.destroyAllWindows()  # Close all OpenCV windows\n"
   ]
  },
  {
   "cell_type": "code",
   "execution_count": 6,
   "id": "8e9e2423-2495-41c2-a0b2-7e2ee256243f",
   "metadata": {},
   "outputs": [
    {
     "name": "stdout",
     "output_type": "stream",
     "text": [
      "Image Dimensions: Height = 179, Width = 282, Channels = 3\n"
     ]
    }
   ],
   "source": [
    "import cv2\n",
    "\n",
    "# Read the image from a file\n",
    "image = cv2.imread('PythonInstallation.PNG.png')  # Replace 'image_file.jpg' with your image path\n",
    "\n",
    "# Check if the image was successfully loaded\n",
    "if image is None:\n",
    "    print(\"Error: Image not found or unable to open the file.\")\n",
    "else:\n",
    "    # Get the shape (dimensions) of the image\n",
    "    height, width, channels = image.shape\n",
    "\n",
    "    # Print the shape (height, width, number of channels)\n",
    "    print(f\"Image Dimensions: Height = {height}, Width = {width}, Channels = {channels}\")\n",
    "\n",
    "    # Display the image\n",
    "    cv2.imshow('Image', image)\n",
    "\n",
    "    # Wait for a key press and close the window\n",
    "    cv2.waitKey(0)  # Wait indefinitely until a key is pressed\n",
    "    cv2.destroyAllWindows()  # Close all OpenCV windows\n"
   ]
  },
  {
   "cell_type": "code",
   "execution_count": 7,
   "id": "e45c6c1c-0f3b-47db-8ad9-f60c8b3aa693",
   "metadata": {},
   "outputs": [
    {
     "name": "stdout",
     "output_type": "stream",
     "text": [
      "Resized Image Dimensions: (256, 400, 3)\n"
     ]
    }
   ],
   "source": [
    "import cv2\n",
    "\n",
    "# Read the image from a file\n",
    "image = cv2.imread('PythonInstallation.PNG.png')  # Replace 'image_file.jpg' with your image path\n",
    "\n",
    "# Check if the image was successfully loaded\n",
    "if image is None:\n",
    "    print(\"Error: Image not found or unable to open the file.\")\n",
    "else:\n",
    "    # Resize the image to 400x256 pixels\n",
    "    resized_image = cv2.resize(image, (400, 256))\n",
    "\n",
    "    # Print the shape of the resized image\n",
    "    print(f\"Resized Image Dimensions: {resized_image.shape}\")\n",
    "\n",
    "    # Display the resized image\n",
    "    cv2.imshow('Resized Image', resized_image)\n",
    "\n",
    "    # Wait for a key press and close the window\n",
    "    cv2.waitKey(0)\n",
    "    cv2.destroyAllWindows()\n"
   ]
  },
  {
   "cell_type": "code",
   "execution_count": 8,
   "id": "e23fa776-256b-41ff-bfc0-b63efa8bdfbe",
   "metadata": {},
   "outputs": [
    {
     "name": "stdout",
     "output_type": "stream",
     "text": [
      "Resized Image Dimensions: (256, 400, 3)\n"
     ]
    }
   ],
   "source": [
    "import cv2\n",
    "\n",
    "# Read the image from a file\n",
    "image = cv2.imread('PythonInstallation.PNG.png')  # Replace 'image_file.jpg' with your image path\n",
    "\n",
    "# Check if the image was successfully loaded\n",
    "if image is None:\n",
    "    print(\"Error: Image not found or unable to open the file.\")\n",
    "else:\n",
    "    # Resize the image to 400x256 pixels\n",
    "    resized_image = cv2.resize(image, (400, 256))\n",
    "\n",
    "    # Print the shape of the resized image\n",
    "    print(f\"Resized Image Dimensions: {resized_image.shape}\")\n",
    "\n",
    "    # Display the resized image\n",
    "    cv2.imshow('Resized Image', resized_image)\n",
    "\n",
    "    # Wait for a key press and close the window\n",
    "    cv2.waitKey(0)  # Wait indefinitely until a key is pressed\n",
    "    cv2.destroyAllWindows()  # Close all OpenCV windows\n"
   ]
  },
  {
   "cell_type": "code",
   "execution_count": 11,
   "id": "08ae4831-58e3-415b-8a4e-da1bc9fc0ae9",
   "metadata": {},
   "outputs": [],
   "source": [
    "import cv2\n",
    "\n",
    "# Read the image from a file\n",
    "image = cv2.imread('PythonInstallation.PNG.png')  # Replace 'image_file.jpg' with your image path\n",
    "\n",
    "# Check if the image was successfully loaded\n",
    "if image is None:\n",
    "    print(\"Error: Image not found or unable to open the file.\")\n",
    "else:\n",
    "    # Resize the image to 400x256 pixels\n",
    "    resized_image = cv2.resize(image, (400, 256))\n",
    "\n",
    "    # Flip the image horizontally (code 1)\n",
    "    flipped_horizontal = cv2.flip(resized_image, 1)\n",
    "\n",
    "    # Flip the image vertically (code 0)\n",
    "    flipped_vertical = cv2.flip(resized_image, 0)\n",
    "\n",
    "    # Flip the image both horizontally and vertically (code -1)\n",
    "    flipped_both = cv2.flip(resized_image, -1)\n",
    "\n",
    "    # Display the flipped images\n",
    "    cv2.imshow('Flipped Horizontally', flipped_horizontal)\n",
    "    cv2.imshow('Flipped Vertically', flipped_vertical)\n",
    "    cv2.imshow('Flipped Both', flipped_both)\n",
    "\n",
    "    # Wait for a key press and close the window\n",
    "    cv2.waitKey(0)  # Wait indefinitely until a key is pressed\n",
    "    cv2.destroyAllWindows()  # Close all OpenCV windows\n"
   ]
  },
  {
   "cell_type": "code",
   "execution_count": null,
   "id": "f638aa97-88ae-44c3-9978-c171fcb9fe30",
   "metadata": {},
   "outputs": [],
   "source": []
  }
 ],
 "metadata": {
  "kernelspec": {
   "display_name": "Python 3 (ipykernel)",
   "language": "python",
   "name": "python3"
  },
  "language_info": {
   "codemirror_mode": {
    "name": "ipython",
    "version": 3
   },
   "file_extension": ".py",
   "mimetype": "text/x-python",
   "name": "python",
   "nbconvert_exporter": "python",
   "pygments_lexer": "ipython3",
   "version": "3.12.7"
  }
 },
 "nbformat": 4,
 "nbformat_minor": 5
}
